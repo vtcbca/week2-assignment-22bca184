{
 "cells": [
  {
   "cell_type": "code",
   "execution_count": 1,
   "id": "ba4633e3",
   "metadata": {},
   "outputs": [],
   "source": [
    "import sqlite3 as sq"
   ]
  },
  {
   "cell_type": "code",
   "execution_count": 2,
   "id": "38e01c16",
   "metadata": {},
   "outputs": [],
   "source": [
    "con=sq.connect('student.db')"
   ]
  },
  {
   "cell_type": "code",
   "execution_count": 3,
   "id": "bbf1e9f4",
   "metadata": {},
   "outputs": [],
   "source": [
    "cur=con.cursor()"
   ]
  },
  {
   "cell_type": "code",
   "execution_count": 4,
   "id": "dffce39e",
   "metadata": {},
   "outputs": [],
   "source": [
    "p='create table stud1(id int primary key,name text)'"
   ]
  },
  {
   "cell_type": "code",
   "execution_count": 5,
   "id": "bb6744ba",
   "metadata": {},
   "outputs": [
    {
     "data": {
      "text/plain": [
       "<sqlite3.Cursor at 0x2774b72f9c0>"
      ]
     },
     "execution_count": 5,
     "metadata": {},
     "output_type": "execute_result"
    }
   ],
   "source": [
    "cur.execute(p)"
   ]
  },
  {
   "cell_type": "code",
   "execution_count": 6,
   "id": "467671b5",
   "metadata": {},
   "outputs": [],
   "source": [
    "p1='create table stud_details1(id references stud(id),city text,mobileno int)'"
   ]
  },
  {
   "cell_type": "code",
   "execution_count": 7,
   "id": "4100ef93",
   "metadata": {},
   "outputs": [
    {
     "data": {
      "text/plain": [
       "<sqlite3.Cursor at 0x2774b72f9c0>"
      ]
     },
     "execution_count": 7,
     "metadata": {},
     "output_type": "execute_result"
    }
   ],
   "source": [
    "cur.execute(p1)"
   ]
  },
  {
   "cell_type": "code",
   "execution_count": 8,
   "id": "172a2a9b",
   "metadata": {},
   "outputs": [],
   "source": [
    "con.commit()"
   ]
  },
  {
   "cell_type": "markdown",
   "id": "2b4c71fd",
   "metadata": {},
   "source": [
    "2.insert into atleast 10 recordes for each table."
   ]
  },
  {
   "cell_type": "code",
   "execution_count": 9,
   "id": "da386cf6",
   "metadata": {},
   "outputs": [],
   "source": [
    "S=\"insert into stud1 values(1,'Om'),(2,'Sai'),(3,'Ram'),(4,'radha'),(5,'krishna'),(6,'Lakshmi'),(7,'Parvati'),(8,'Varun'),(9,'Indra'),(10,'Vishnu')\""
   ]
  },
  {
   "cell_type": "code",
   "execution_count": 10,
   "id": "aa5faa17",
   "metadata": {},
   "outputs": [
    {
     "data": {
      "text/plain": [
       "<sqlite3.Cursor at 0x2774b72f9c0>"
      ]
     },
     "execution_count": 10,
     "metadata": {},
     "output_type": "execute_result"
    }
   ],
   "source": [
    "cur.execute(S)"
   ]
  },
  {
   "cell_type": "code",
   "execution_count": 11,
   "id": "e0653b31",
   "metadata": {},
   "outputs": [],
   "source": [
    "S1=\"insert into stud_details1 values(1,'Surat',1234567890),(2,'Baroda',7856412352),(3,'Vyara',7412564878),(4,'Bardoli',9854632145),(5,'Daman',7485963212),(6,'Goa',7596874532),(7,'Songadh',8563214521),(8,'Diu',9877445522),(9,'Mehsana',8574963214),(10,'Kelisana',8574961245)\""
   ]
  },
  {
   "cell_type": "code",
   "execution_count": 12,
   "id": "08058c06",
   "metadata": {},
   "outputs": [
    {
     "data": {
      "text/plain": [
       "<sqlite3.Cursor at 0x2774b72f9c0>"
      ]
     },
     "execution_count": 12,
     "metadata": {},
     "output_type": "execute_result"
    }
   ],
   "source": [
    "cur.execute(S1)"
   ]
  },
  {
   "cell_type": "code",
   "execution_count": 13,
   "id": "92fb3f8c",
   "metadata": {},
   "outputs": [],
   "source": [
    "con.commit()"
   ]
  },
  {
   "cell_type": "markdown",
   "id": "cef9b9ae",
   "metadata": {},
   "source": [
    "3.Diplay whose Student Come From the Surat City."
   ]
  },
  {
   "cell_type": "code",
   "execution_count": 17,
   "id": "aa9efc6c",
   "metadata": {},
   "outputs": [],
   "source": [
    "q1=\"select * from stud_details1 where city='Surat' \""
   ]
  },
  {
   "cell_type": "code",
   "execution_count": 18,
   "id": "9bcdb60c",
   "metadata": {},
   "outputs": [
    {
     "data": {
      "text/plain": [
       "<sqlite3.Cursor at 0x2774b72f9c0>"
      ]
     },
     "execution_count": 18,
     "metadata": {},
     "output_type": "execute_result"
    }
   ],
   "source": [
    "cur.execute(q1)"
   ]
  },
  {
   "cell_type": "code",
   "execution_count": 19,
   "id": "4d8a6414",
   "metadata": {},
   "outputs": [
    {
     "data": {
      "text/plain": [
       "[(1, 'Surat', 1234567890)]"
      ]
     },
     "execution_count": 19,
     "metadata": {},
     "output_type": "execute_result"
    }
   ],
   "source": [
    "cur.fetchall()"
   ]
  },
  {
   "cell_type": "code",
   "execution_count": 20,
   "id": "4d9ab452",
   "metadata": {},
   "outputs": [],
   "source": [
    "con.commit()"
   ]
  },
  {
   "cell_type": "markdown",
   "id": "75f3f545",
   "metadata": {},
   "source": [
    "4.Display Student Details Whose City Name Start with B."
   ]
  },
  {
   "cell_type": "code",
   "execution_count": 21,
   "id": "c67e7b4e",
   "metadata": {},
   "outputs": [],
   "source": [
    "q2=\"select * from stud_details1 where city LIKE 'B%' \""
   ]
  },
  {
   "cell_type": "code",
   "execution_count": 22,
   "id": "37679fed",
   "metadata": {},
   "outputs": [
    {
     "data": {
      "text/plain": [
       "<sqlite3.Cursor at 0x2774b72f9c0>"
      ]
     },
     "execution_count": 22,
     "metadata": {},
     "output_type": "execute_result"
    }
   ],
   "source": [
    "cur.execute(q2)"
   ]
  },
  {
   "cell_type": "code",
   "execution_count": 23,
   "id": "516e1220",
   "metadata": {},
   "outputs": [
    {
     "data": {
      "text/plain": [
       "[(2, 'Baroda', 7856412352), (4, 'Bardoli', 9854632145)]"
      ]
     },
     "execution_count": 23,
     "metadata": {},
     "output_type": "execute_result"
    }
   ],
   "source": [
    "cur.fetchall()"
   ]
  },
  {
   "cell_type": "code",
   "execution_count": 24,
   "id": "06ee4c2f",
   "metadata": {},
   "outputs": [],
   "source": [
    "con.commit()"
   ]
  },
  {
   "cell_type": "markdown",
   "id": "59af40df",
   "metadata": {},
   "source": [
    "5.Update Mobile Who are Coming From 'Surat'."
   ]
  },
  {
   "cell_type": "code",
   "execution_count": 25,
   "id": "55c964a5",
   "metadata": {},
   "outputs": [],
   "source": [
    "q3=\"update stud_details1 set mobileno=8569745212 where city='Surat' \""
   ]
  },
  {
   "cell_type": "code",
   "execution_count": 26,
   "id": "d0905fd3",
   "metadata": {},
   "outputs": [
    {
     "data": {
      "text/plain": [
       "<sqlite3.Cursor at 0x2774b72f9c0>"
      ]
     },
     "execution_count": 26,
     "metadata": {},
     "output_type": "execute_result"
    }
   ],
   "source": [
    "cur.execute(q3)"
   ]
  },
  {
   "cell_type": "code",
   "execution_count": 27,
   "id": "f7f48142",
   "metadata": {},
   "outputs": [],
   "source": [
    "con.commit()"
   ]
  },
  {
   "cell_type": "code",
   "execution_count": 28,
   "id": "de37842c",
   "metadata": {},
   "outputs": [],
   "source": [
    "con.close()"
   ]
  }
 ],
 "metadata": {
  "kernelspec": {
   "display_name": "Python 3 (ipykernel)",
   "language": "python",
   "name": "python3"
  },
  "language_info": {
   "codemirror_mode": {
    "name": "ipython",
    "version": 3
   },
   "file_extension": ".py",
   "mimetype": "text/x-python",
   "name": "python",
   "nbconvert_exporter": "python",
   "pygments_lexer": "ipython3",
   "version": "3.10.8"
  }
 },
 "nbformat": 4,
 "nbformat_minor": 5
}
